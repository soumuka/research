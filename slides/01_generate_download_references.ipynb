{
 "cells": [
  {
   "cell_type": "markdown",
   "id": "38fb1d55",
   "metadata": {},
   "source": [
    "# 下载文献\n",
    "\n",
    "\n",
    "在制作 Slides 的过程中，我需要搜索很多文献。由于时间和能力的限制，我无法对每篇文献进行深入的解读和总结。为此，我使用如下流程加速我对这些文献的理解：\n",
    "\n",
    "1. 使用我编写的 Stata 命令 [getiref](https://www.lianxh.cn/details/1382.html) 获得引文信息，并下载 PDF 文档到指定路径。\n",
    "2. 将这些 PDF 文档 (一次一篇或同主题的多篇) 发送给 AI 助手 (我主要使用 ChatGPT 和豆包)，让它们帮我解读论文的要点。我会酌情追问，并阅读原文中的相关内容。如有必要，我会把这些内容发送给 AI 助手，让它解读，或提供更容易理解的公式、实例、Stata/Python 代码等。\n",
    "\n",
    "本文档主要用于下载文献到 **./refs** 目录下。"
   ]
  },
  {
   "cell_type": "markdown",
   "id": "4d007976",
   "metadata": {},
   "source": [
    "## 用 getiref 下载引文\n",
    "\n",
    "你可以直接在 Stata 命令窗口中执行这些命令，也可以在 dofile 中执行。此处，我已经配置好了 Python + Jupyter Notebook 环境 ([配置方法](https://book.lianxh.cn/ds/body/01_1_install-Python-Anocanda.html))，因此，我直接在 Jupyter Notebook 中执行这些命令。\n"
   ]
  },
  {
   "cell_type": "code",
   "execution_count": 10,
   "id": "c04a395d",
   "metadata": {},
   "outputs": [
    {
     "name": "stdout",
     "output_type": "stream",
     "text": [
      "D:\\github_lianxh\\research_with_AI\\refs\n"
     ]
    }
   ],
   "source": [
    "\n",
    "* 安装 getiref\n",
    "//ssc install getiref, replace\n",
    "\n",
    "* 设置下载路径\n",
    "global refpath \"D:\\github_lianxh\\research_with_AI\\refs\"\n",
    "cd \"$refpath\""
   ]
  },
  {
   "cell_type": "code",
   "execution_count": 2,
   "id": "1a9bfe9f",
   "metadata": {},
   "outputs": [
    {
     "name": "stdout",
     "output_type": "stream",
     "text": [
      "  \n",
      "Erdem, O., & Ashok, R. P. (2025). Artificial Finance: How AI Thinks About Money\n",
      ">  (Version 1). arXiv.\n",
      "    Link (rep)    PDF    Google    \n",
      "\n",
      "Erdem, O., & Ashok, R. P. (2025). Artificial Finance: How AI Thinks About Money\n",
      ">  (Version 1). arXiv. [Link](https://doi.org/10.48550/arXiv.2507.10933) (rep),\n",
      ">  [PDF](https://arxiv.org/pdf/2507.10933.pdf), [Google](<https://scholar.googl\n",
      "> e.com/scholar?q=Artificial Finance: How AI Thinks About Money (Version 1)>).\n",
      "        PDF:   dir    view_online     Open\n",
      " \n",
      "Tips: Text is on clipboard. Press 'Ctrl+V' to paste, ^-^\n"
     ]
    }
   ],
   "source": [
    "getiref 2507.10933 , m arxiv pdf"
   ]
  },
  {
   "cell_type": "markdown",
   "id": "f74733fa",
   "metadata": {},
   "source": [
    "执行完上述命令后，引文信息已经被自动粘贴在剪切板上，直接按快捷键 `Ctrl + V` 即可粘贴到 Jupyter Notebook 中。同时，PDF 文档已经下载到指定路径。"
   ]
  },
  {
   "cell_type": "markdown",
   "id": "929ecadf",
   "metadata": {},
   "source": [
    "### 下载好引文信息\n",
    "\n",
    "- Erdem, O., & Ashok, R. P. (2025). Artificial Finance: How AI Thinks About Money (Version 1). arXiv. [Link](https://doi.org/10.48550/arXiv.2507.10933) (rep), [PDF](https://arxiv.org/pdf/2507.10933.pdf), [Google](<https://scholar.google.com/scholar?q=Artificial Finance: How AI Thinks About Money (Version 1)>)."
   ]
  },
  {
   "cell_type": "markdown",
   "id": "14e80d6d",
   "metadata": {},
   "source": [
    "## 其他文献"
   ]
  },
  {
   "cell_type": "code",
   "execution_count": 6,
   "id": "9432880a",
   "metadata": {},
   "outputs": [
    {
     "name": "stdout",
     "output_type": "stream",
     "text": [
      "  \n",
      "Dong, M. M., Stratopoulos, T. C., & Wang, V. X. (2024). A scoping review of Cha\n",
      "> tGPT research in accounting and finance. International Journal of Accounting \n",
      "> Information Systems, 55, 100715.\n",
      "    Link    PDF    Google    \n",
      "\n",
      "Dong, M. M., Stratopoulos, T. C., & Wang, V. X. (2024). A scoping review of Cha\n",
      "> tGPT research in accounting and finance. International Journal of Accounting \n",
      "> Information Systems, 55, 100715. [Link](https://doi.org/10.1016/j.accinf.2024\n",
      "> .100715), [PDF](http://sci-hub.ren/10.1016/j.accinf.2024.100715), [Google](<h\n",
      "> ttps://scholar.google.com/scholar?q=A scoping review of ChatGPT research in a\n",
      "> ccounting and finance>).\n",
      " \n",
      "Tips: Text is on clipboard. Press 'Ctrl+V' to paste, ^-^\n"
     ]
    }
   ],
   "source": [
    "getiref 10.1016/j.accinf.2024.100715, m "
   ]
  },
  {
   "cell_type": "markdown",
   "id": "3fbc695c",
   "metadata": {},
   "source": [
    "- Dong, M. M., Stratopoulos, T. C., & Wang, V. X. (2024). A scoping review of ChatGPT research in accounting and finance. International Journal of Accounting Information Systems, 55, 100715. [Link](https://doi.org/10.1016/j.accinf.2024.100715), [PDF](http://sci-hub.ren/10.1016/j.accinf.2024.100715), [Google](<https://scholar.google.com/scholar?q=A scoping review of ChatGPT research in accounting and finance>)."
   ]
  },
  {
   "cell_type": "code",
   "execution_count": 7,
   "id": "a043bf75",
   "metadata": {},
   "outputs": [
    {
     "name": "stdout",
     "output_type": "stream",
     "text": [
      "  \n",
      "Renkema, M., & Tursunbayeva, A. (2024). The future of work of academics in the \n",
      "> age of Artificial Intelligence: State-of-the-art and a research roadmap. Futu\n",
      "> res, 163, 103453.\n",
      "    Link    PDF    Google    \n",
      "\n",
      "Renkema, M., & Tursunbayeva, A. (2024). The future of work of academics in the \n",
      "> age of Artificial Intelligence: State-of-the-art and a research roadmap. Futu\n",
      "> res, 163, 103453. [Link](https://doi.org/10.1016/j.futures.2024.103453), [PDF\n",
      "> ](http://sci-hub.ren/10.1016/j.futures.2024.103453), [Google](<https://schola\n",
      "> r.google.com/scholar?q=The future of work of academics in the age of Artifici\n",
      "> al Intelligence: State-of-the-art and a research roadmap>).\n",
      " \n",
      "Tips: Text is on clipboard. Press 'Ctrl+V' to paste, ^-^\n"
     ]
    }
   ],
   "source": [
    "getiref      10.1016/j.futures.2024.103453   , m"
   ]
  },
  {
   "cell_type": "markdown",
   "id": "660ae5c3",
   "metadata": {},
   "source": [
    "- Renkema, M., & Tursunbayeva, A. (2024). The future of work of academics in the age of Artificial Intelligence: State-of-the-art and a research roadmap. Futures, 163, 103453. [Link](https://doi.org/10.1016/j.futures.2024.103453), [PDF](https://ris.utwente.nl/ws/portalfiles/portal/489029873/1-s2.0-S0016328724001368-main.pdf), [Google](<https://scholar.google.com/scholar?q=The future of work of academics in the age of Artificial Intelligence: State-of-the-art and a research roadmap>)."
   ]
  },
  {
   "cell_type": "code",
   "execution_count": 9,
   "id": "09981091",
   "metadata": {},
   "outputs": [
    {
     "name": "stdout",
     "output_type": "stream",
     "text": [
      "  \n",
      "Giesecke, O. (2024). AI at the Frontier of Economic Research. SSRN Electronic J\n",
      "> ournal.\n",
      "    Link        Google    \n",
      "\n",
      "Giesecke, O. (2024). AI at the Frontier of Economic Research. SSRN Electronic J\n",
      "> ournal. [Link](https://doi.org/10.2139/ssrn.4736003), [Google](<https://schol\n",
      "> ar.google.com/scholar?q=AI at the Frontier of Economic Research>).\n",
      " \n",
      "Tips: Text is on clipboard. Press 'Ctrl+V' to paste, ^-^\n"
     ]
    }
   ],
   "source": [
    "getiref       10.2139/ssrn.4736003  , m"
   ]
  },
  {
   "cell_type": "markdown",
   "id": "85d967b6",
   "metadata": {},
   "source": [
    "- Giesecke, O. (2024). AI at the Frontier of Economic Research. SSRN Electronic Journal. [Link](https://doi.org/10.2139/ssrn.4736003), [-PDF-](https://papers.ssrn.com/sol3/Delivery.cfm/SSRN_ID4736003_code2051012.pdf?abstractid=4736003&mirid=1&type=2), [Google](<https://scholar.google.com/scholar?q=AI at the Frontier of Economic Research>).\n"
   ]
  },
  {
   "cell_type": "code",
   "execution_count": 13,
   "id": "e428da77",
   "metadata": {},
   "outputs": [
    {
     "name": "stdout",
     "output_type": "stream",
     "text": [
      "  \n",
      "Han, S. (2024). Mining Causality: AI-Assisted Search for Instrumental Variables\n",
      ">  (Version 3). arXiv.\n",
      "    Link (rep)    PDF    Google    \n",
      "\n",
      "Han, S. (2024). Mining Causality: AI-Assisted Search for Instrumental Variables\n",
      ">  (Version 3). arXiv. [Link](https://doi.org/10.48550/arXiv.2409.14202) (rep),\n",
      ">  [PDF](https://arxiv.org/pdf/2409.14202.pdf), [Google](<https://scholar.googl\n",
      "> e.com/scholar?q=Mining Causality: AI-Assisted Search for Instrumental Variabl\n",
      "> es (Version 3)>).\n",
      "        PDF:   dir    view_online     Open\n",
      " \n",
      "Tips: Text is on clipboard. Press 'Ctrl+V' to paste, ^-^\n"
     ]
    }
   ],
   "source": [
    "getiref   2409.14202      , m ar pdf"
   ]
  },
  {
   "cell_type": "markdown",
   "id": "c83d34f3",
   "metadata": {},
   "source": [
    "Han, S. (2024). Mining Causality: AI-Assisted Search for Instrumental Variables (Version 3). arXiv. [Link](https://doi.org/10.48550/arXiv.2409.14202) (rep), [PDF](https://arxiv.org/pdf/2409.14202.pdf), [Google](<https://scholar.google.com/scholar?q=Mining Causality: AI-Assisted Search for Instrumental Variables (Version 3)>)."
   ]
  },
  {
   "cell_type": "code",
   "execution_count": null,
   "id": "a6b82dc6",
   "metadata": {},
   "outputs": [
    {
     "name": "stdout",
     "output_type": "stream",
     "text": [
      "  \n",
      "Fang, H., Li, M., & Lu, G. (2025). Decoding China’s Industrial Policies. Nation\n",
      "> al Bureau of Economic Research.\n",
      "    Link    PDF    Google    \n",
      "\n",
      "Fang, H., Li, M., & Lu, G. (2025). Decoding China’s Industrial Policies. Nation\n",
      "> al Bureau of Economic Research. [Link](https://doi.org/10.3386/w33814), [PDF]\n",
      "> (https://www.nber.org/system/files/working_papers/w33814/w33814.pdf), [Google\n",
      "> ](<https://scholar.google.com/scholar?q=Decoding China’s Industrial Policies>\n",
      "> ).\n",
      "        PDF:   dir    view_online     Open\n",
      " \n",
      "Tips: Text is on clipboard. Press 'Ctrl+V' to paste, ^-^\n"
     ]
    }
   ],
   "source": [
    "getiref     10.3386/w33814    , m "
   ]
  },
  {
   "cell_type": "markdown",
   "id": "8095c191",
   "metadata": {},
   "source": [
    "Fang, H., Li, M., & Lu, G. (2025). Decoding China’s Industrial Policies. National Bureau of Economic Research. [Link](https://doi.org/10.3386/w33814), [PDF](https://bpb-us-w2.wpmucdn.com/web.sas.upenn.edu/dist/3/517/files/2025/05/2025-5-12-China_Industrial_Policy_compressed.pdf), [Google](<https://scholar.google.com/scholar?q=Decoding China’s Industrial Policies>)."
   ]
  },
  {
   "cell_type": "code",
   "execution_count": 15,
   "id": "a1f76c8b",
   "metadata": {},
   "outputs": [
    {
     "name": "stdout",
     "output_type": "stream",
     "text": [
      "  \n",
      "Wang, J. J., & Wang, V. X. (2024). Leveraging Large Language Models to Democrat\n",
      "> ize Access to Costly Datasets for Academic Research (Version 2). arXiv.\n",
      "    Link (rep)    PDF    Google    \n",
      "\n",
      "Wang, J. J., & Wang, V. X. (2024). Leveraging Large Language Models to Democrat\n",
      "> ize Access to Costly Datasets for Academic Research (Version 2). arXiv. [Link\n",
      "> ](https://doi.org/10.48550/arXiv.2412.02065) (rep), [PDF](https://arxiv.org/p\n",
      "> df/2412.02065.pdf), [Google](<https://scholar.google.com/scholar?q=Leveraging\n",
      ">  Large Language Models to Democratize Access to Costly Datasets for Academic \n",
      "> Research (Version 2)>).\n",
      "        PDF:   dir    view_online     Open\n",
      " \n",
      "Tips: Text is on clipboard. Press 'Ctrl+V' to paste, ^-^\n"
     ]
    }
   ],
   "source": [
    "getiref    2412.02065     , m ar pdf"
   ]
  },
  {
   "cell_type": "markdown",
   "id": "b3fe1c2e",
   "metadata": {},
   "source": [
    "Wang, J. J., & Wang, V. X. (2024). Leveraging Large Language Models to Democratize Access to Costly Datasets for Academic Research (Version 2). arXiv. [Link](https://doi.org/10.48550/arXiv.2412.02065) (rep), [PDF](https://arxiv.org/pdf/2412.02065.pdf), [Google](<https://scholar.google.com/scholar?q=Leveraging Large Language Models to Democratize Access to Costly Datasets for Academic Research (Version 2)>). Page 32-33 提供了作者用于收集数据的提示词清单。\n",
    "\n",
    "- **Abstract**: Unequal access to costly datasets essential for empirical research has long hinderedresearchers from disadvantaged institutions, limiting their ability to contribute to their fields andadvance their careers. Recent breakthroughs in Large Language Models (LLMs) have the potentialto democratize data access by automating data collection from unstructured sources. We developand evaluate a novel methodology using GPT-4o-mini within a Retrieval-Augmented Generation(RAG) framework to collect data from corporate disclosures. Our approach achieves human-levelaccuracy in collecting CEO pay ratios from approximately 10,000 proxy statements and CriticalAudit Matters (CAMs) from more than 12,000 annual reports, with LLM processing times of 9and 40 minutes respectively, each at a cost under $10. This stands in stark contrast to the hundredsof hours needed for manual collection or the thousands of dollars required for commercial databasesubscriptions. To foster a more inclusive research community by empowering researchers withlimited resources to explore new avenues of inquiry, we share our methodology and the resultingdatasets."
   ]
  },
  {
   "cell_type": "code",
   "execution_count": 16,
   "id": "4e7c72cd",
   "metadata": {},
   "outputs": [
    {
     "name": "stdout",
     "output_type": "stream",
     "text": [
      "  \n",
      "Bahoo, S., Goodell, J. W., Rhattat, R., & Shahid, S. (2025). Artificial Intelli\n",
      "> gence in Economics Research: What Have We Learned? What Do We Need to Learn? \n",
      "> Journal of Economic Surveys. Portico.\n",
      "    Link    PDF    Google    \n",
      "\n",
      "Bahoo, S., Goodell, J. W., Rhattat, R., & Shahid, S. (2025). Artificial Intelli\n",
      "> gence in Economics Research: What Have We Learned? What Do We Need to Learn? \n",
      "> Journal of Economic Surveys. Portico. [Link](https://doi.org/10.1111/joes.126\n",
      "> 94), [PDF](http://sci-hub.ren/10.1111/joes.12694), [Google](<https://scholar.\n",
      "> google.com/scholar?q=Artificial Intelligence in Economics Research: What Have\n",
      ">  We Learned? What Do We Need to Learn? Journal of Economic Surveys>).\n",
      " \n",
      "Tips: Text is on clipboard. Press 'Ctrl+V' to paste, ^-^\n"
     ]
    }
   ],
   "source": [
    "getiref    10.1111/joes.12694     , m"
   ]
  },
  {
   "cell_type": "markdown",
   "id": "bd099e6e",
   "metadata": {},
   "source": [
    "Bahoo, S., Goodell, J. W., Rhattat, R., & Shahid, S. (2025). Artificial Intelligence in Economics Research: What Have We Learned? What Do We Need to Learn? Journal of Economic Surveys. Portico. [Link](https://doi.org/10.1111/joes.12694), [PDF](https://onlinelibrary.wiley.com/doi/pdf/10.1111/joes.12694?casa_token=_mmhWoR0M9oAAAAA:0XkFS2XMh_AWK9d0udGavTvAxiiHW6lmSWHTO_5Q9PKC5rebRxBiuurYKfU3KL3x49PAiLO7E7aMDHk), [Google](<https://scholar.google.com/scholar?q=Artificial Intelligence in Economics Research: What Have We Learned? What Do We Need to Learn? Journal of Economic Surveys>)."
   ]
  },
  {
   "cell_type": "code",
   "execution_count": 17,
   "id": "cb876ac4",
   "metadata": {},
   "outputs": [
    {
     "name": "stdout",
     "output_type": "stream",
     "text": [
      "  \n",
      "Sahoo, S., & Dutta, K. (2024). Boardwalk Empire: How Generative AI is Revolutio\n",
      "> nizing Economic Paradigms (Version 2). arXiv.\n",
      "    Link (rep)    PDF    Google    \n",
      "\n",
      "Sahoo, S., & Dutta, K. (2024). Boardwalk Empire: How Generative AI is Revolutio\n",
      "> nizing Economic Paradigms (Version 2). arXiv. [Link](https://doi.org/10.48550\n",
      "> /arXiv.2410.15212) (rep), [PDF](https://arxiv.org/pdf/2410.15212.pdf), [Googl\n",
      "> e](<https://scholar.google.com/scholar?q=Boardwalk Empire: How Generative AI \n",
      "> is Revolutionizing Economic Paradigms (Version 2)>).\n",
      "        PDF:   dir    view_online     Open\n",
      " \n",
      "Tips: Text is on clipboard. Press 'Ctrl+V' to paste, ^-^\n"
     ]
    }
   ],
   "source": [
    "getiref   2410.15212      , m ar pdf "
   ]
  },
  {
   "cell_type": "markdown",
   "id": "09a16441",
   "metadata": {},
   "source": [
    "Sahoo, S., & Dutta, K. (2024). Boardwalk Empire: How Generative AI is Revolutionizing Economic Paradigms (Version 2). arXiv. [Link](https://doi.org/10.48550/arXiv.2410.15212) (rep), [PDF](https://arxiv.org/pdf/2410.15212.pdf), [Google](<https://scholar.google.com/scholar?q=Boardwalk Empire: How Generative AI is Revolutionizing Economic Paradigms (Version 2)>).\n",
    "- 介绍了各种使用 GenAI 处理文本、语音和影像资料的软件和平台。"
   ]
  }
 ],
 "metadata": {
  "kernelspec": {
   "display_name": "Stata (nbstata)",
   "language": "stata",
   "name": "nbstata"
  },
  "language_info": {
   "file_extension": ".do",
   "mimetype": "text/x-stata",
   "name": "stata",
   "version": "17"
  }
 },
 "nbformat": 4,
 "nbformat_minor": 5
}
