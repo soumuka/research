{
 "cells": [
  {
   "cell_type": "markdown",
   "id": "9e9d72e3",
   "metadata": {},
   "source": []
  },
  {
   "cell_type": "markdown",
   "id": "eabddcad",
   "metadata": {},
   "source": [
    "# 简介：AI 带来了什么？"
   ]
  },
  {
   "cell_type": "markdown",
   "id": "a071910a",
   "metadata": {},
   "source": [
    "\n",
    "## 理念\n",
    "\n",
    "> 自然语言编程 vs. 传统编程\n",
    "\n",
    "- 「自然语言编程」与 Python、C++ 等传统编程本质上都是向计算机发出指令，要求其执行特定操作\n",
    "- 区别在于：\n",
    "  - 传统编程语言（如 Python、C++）有严格的语法和结构\n",
    "  - 自然语言编程则用人类语言（如中文、英文）描述操作\n",
    "\n",
    "> 思维方式与沟通能力\n",
    "\n",
    "- 初学时，自然语言编程似乎更简单\n",
    "- 真正发挥其潜力，关键在于**思维方式**和**沟通方式**（如何提问）\n",
    "- 学习曲线很陡峭：\n",
    "  - 知识广度：你要知道很多东西以及他们的关联，才能提出好的问题\n",
    "  - 知识深度：基本概念、核心理论、核心算法\n",
    "  - 逻辑思维：界定问题、拆解问题、追问（横向 v.s. 纵向）\n",
    "  - 语言表达：简洁、准确、清晰\n",
    "\n",
    "> 最核心的理念转变\n",
    "\n",
    "- 提示词 = 自然语言的\"代码\"\n",
    "- 写好提示词，就像写好 Python/C++ 代码一样重要\n",
    "- 许多高校已开设「提示词工程」课程，「Prompt 工程师」将成为热门职业\n",
    "\n",
    "> 推荐学习资料\n",
    "\n",
    "- [Prompt Engineering Guide](https://www.promptingguide.ai/zh)\n",
    "- 吴恩达老师的 [ChatGPT Prompt Engineering for Developers](https://www.deeplearning.ai/short-courses/chatgpt-prompt-engineering-for-developers/) \n",
    "  \n",
    "  <a href=\"https://www.deeplearning.ai/short-courses/chatgpt-prompt-engineering-for-developers/\"><img src=\"https://fig-lianxh.oss-cn-shenzhen.aliyuncs.com/20250425003834.png\" width=\"400pt\"></a>\n",
    "\n",
    "## 提示词\n",
    "\n",
    "> Tips\n",
    "\n",
    "- 先粗后细 [e.g. 生成讲义](https://chatgpt.com/share/680a54a4-1174-8005-bedc-b101549ad45b) v.s 先细后粗\n",
    "- 顺藤摸瓜-迁移 [e.g. 各种抽样方法](https://chatgpt.com/share/680a57b2-f4d4-8005-b94a-b9c659e08508)\n",
    "- 虚构角色 [e.g. 你是一个资深的英文经济学期刊的编辑](https://chatgpt.com/share/67f11fc5-b1a0-8005-b559-c479ffbad641) → [推文](https://www.lianxh.cn/details/1563.html)\n",
    "\n",
    "> 收集整理自己的提示词\n",
    "\n",
    "- [ChatGPT Prompting Cheat Sheet](https://blog.finxter.com/wp-content/uploads/2023/03/Finxter_Prompting_OpenAI-1.pdf)\n",
    "- [The Complete ChatGPT Cheat Sheet 2025!](https://www.reddit.com/r/ChatGPTPromptGenius/comments/1icr5au/the_complete_chatgpt_cheat_sheet_2025/)\n",
    "- [Prompt工作手册 - 方法篇](https://zhuanlan.zhihu.com/p/713023937)\n",
    "\n",
    "## 我的使用经验\n",
    "\n",
    "- 我常用的提示词：<https://github.com/arlionn/UseChatGPT>\n",
    "\n",
    "- 论文推介：\n",
    "  - [使用 AI 撰写论文推介](05_00_read_paper_with_AI.html)\n",
    "  - [案例：AI 助我读论文之 Wing et al. (2024)](05_01_example_Wing-2024.html)\n",
    "\n",
    "- 借助 AI 找 IV\n",
    "  - [帮我找 20 个 IV](https://chatgpt.com/share/67ded832-79bc-8005-bbdb-7a79ebd755c7) &rarr; [详情](08_findit_IV_example.html)\n",
    "  - [寻找 IV 的提示词如何写？](https://chatgpt.com/share/680a60aa-3eb4-8005-9478-42828c78c38a)\n",
    "\n",
    "- 学计量：[使用 AI 解读 Tobit 模型](examples/learn_Tobit_model.html)\n",
    "\n",
    "- \n"
   ]
  }
 ],
 "metadata": {
  "language_info": {
   "name": "python"
  }
 },
 "nbformat": 4,
 "nbformat_minor": 5
}
