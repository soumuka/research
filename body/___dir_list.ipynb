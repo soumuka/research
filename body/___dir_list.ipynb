{
 "cells": [
  {
   "cell_type": "markdown",
   "id": "10bdff72",
   "metadata": {},
   "source": [
    "# 自动列示文档目录\n",
    "\n",
    "执行下面的 Python 代码可以自动列示当前目录下的所有文件，并生成一个目录列表，以便复制粘贴到 `_quarto.yml` 文件中。\n"
   ]
  },
  {
   "cell_type": "code",
   "execution_count": 2,
   "id": "b916b9ea",
   "metadata": {},
   "outputs": [
    {
     "name": "stdout",
     "output_type": "stream",
     "text": [
      "        - body/00_intro.ipynb\n",
      "        - body/00_Tools.md\n",
      "        - body/01_install_Python_Anaconda.ipynb\n",
      "        - body/01_use_Junpyter_Notebook.ipynb\n",
      "        - body/02_install_FAQs.ipynb\n",
      "        - body/03_markdown_marp.md\n",
      "        - body/04_use_AI.md\n",
      "        - body/05_00_read_paper_with_AI.ipynb\n",
      "        - body/05_01_example_Wing-2024.ipynb\n",
      "        - body/05_02_Wing-2024.md\n",
      "        - body/06_gen_hypothesis.ipynb\n",
      "        - body/07_findit_IV.ipynb\n",
      "        - body/08_findit_IV_example.ipynb\n",
      "        - body/08_findit_IV_example_Q8.md\n",
      "        - body/AI_research_design_Erdem_2025.ipynb\n",
      "        - body/AI_tools_list.md\n",
      "        - body/references.md\n",
      "        - body/_temp.md\n",
      "        - body/___dir_list.ipynb\n"
     ]
    }
   ],
   "source": [
    "import os\n",
    "\n",
    "# 增加关键词变量\n",
    "keywords = []\n",
    "exclude = []\n",
    "\n",
    "folder_path = os.getcwd()\n",
    "\n",
    "for file in os.listdir(folder_path):\n",
    "    if os.path.isfile(os.path.join(folder_path, file)):\n",
    "        file_name, suffix = os.path.splitext(file)\n",
    "        suffix = suffix.lstrip('.')\n",
    "        # 如果keywords为空或文件名包含任一关键词且不在排除列表则输出\n",
    "        if (not keywords or any(kw in file_name for kw in keywords)) and \\\n",
    "           (not exclude or all(ex not in file_name for ex in exclude)):\n",
    "            print(f'        - body/{file_name}.{suffix}')"
   ]
  }
 ],
 "metadata": {
  "kernelspec": {
   "display_name": "base",
   "language": "python",
   "name": "python3"
  },
  "language_info": {
   "codemirror_mode": {
    "name": "ipython",
    "version": 3
   },
   "file_extension": ".py",
   "mimetype": "text/x-python",
   "name": "python",
   "nbconvert_exporter": "python",
   "pygments_lexer": "ipython3",
   "version": "3.12.7"
  }
 },
 "nbformat": 4,
 "nbformat_minor": 5
}
